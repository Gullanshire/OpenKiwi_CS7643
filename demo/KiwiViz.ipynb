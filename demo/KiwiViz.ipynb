{
 "cells": [
  {
   "cell_type": "code",
   "execution_count": 44,
   "metadata": {},
   "outputs": [],
   "source": [
    "from ipywidgets import interact, Textarea\n",
    "import nltk\n",
    "from colored import fg\n",
    "\n",
    "import kiwi\n",
    "from kiwi import constants as const"
   ]
  },
  {
   "cell_type": "code",
   "execution_count": 46,
   "metadata": {},
   "outputs": [
    {
     "name": "stderr",
     "output_type": "stream",
     "text": [
      "[nltk_data] Downloading package punkt to /home/sony/nltk_data...\n",
      "[nltk_data]   Package punkt is already up-to-date!\n"
     ]
    },
    {
     "data": {
      "text/plain": [
       "True"
      ]
     },
     "execution_count": 46,
     "metadata": {},
     "output_type": "execute_result"
    }
   ],
   "source": [
    "model_file = 'en_de.torch'\n",
    "model = kiwi.load_model(model_file)\n",
    "\n",
    "nltk.download('punkt')"
   ]
  },
  {
   "cell_type": "code",
   "execution_count": 57,
   "metadata": {},
   "outputs": [],
   "source": [
    "THRESHOLD = 0.9\n",
    "\n",
    "GREEN = fg(10)  # GREEN\n",
    "RED = fg(1)  # RED\n",
    "\n",
    "def get_color(bad_prob):\n",
    "    return GREEN if bad_prob < THRESHOLD else RED\n",
    "\n",
    "def KiwiViz(source, mt):\n",
    "    source = ' '.join(nltk.word_tokenize(source))\n",
    "    mt = ' '.join(nltk.word_tokenize(mt))\n",
    "    model_out = model.predict({const.SOURCE: [source.lower()], const.TARGET: [mt.lower()]})\n",
    "    bad_probs = model_out[const.TARGET_TAGS][0]\n",
    "    gap_probs = model_out[const.GAP_TAGS][0]\n",
    "    word_colors = map(get_color, bad_probs)\n",
    "    gap_colors = list(map(get_color, gap_probs[1:]))\n",
    "    colored_words = [\n",
    "        color + word \n",
    "        for color, word in zip(word_colors, mt.split())\n",
    "    ]\n",
    "    BAD_GAP = RED + '_'\n",
    "    visualization = ''\n",
    "    for colored_word, gap_prob in zip(colored_words, gap_probs[:-1]):\n",
    "        visualization += ' ' if gap_prob < THRESHOLD else BAD_GAP + ' '\n",
    "        visualization += colored_word\n",
    "    visualization += '' if gap_probs[-1] < THRESHOLD else ' ' + BAD_GAP\n",
    "    print('HTER: {}'.format(model_out[const.SENTENCE_SCORES][0]))\n",
    "    print(visualization)"
   ]
  },
  {
   "cell_type": "code",
   "execution_count": 58,
   "metadata": {},
   "outputs": [],
   "source": [
    "SOURCE = Textarea(value='stops validating after detecting 250 errors.')\n",
    "MT = Textarea(value='validieren nach Entdeckung 250 Fehler stoppt.')"
   ]
  },
  {
   "cell_type": "code",
   "execution_count": 59,
   "metadata": {},
   "outputs": [
    {
     "data": {
      "application/vnd.jupyter.widget-view+json": {
       "model_id": "0201c8ee17424cb8beaf2ebd2fda9488",
       "version_major": 2,
       "version_minor": 0
      },
      "text/plain": [
       "interactive(children=(Textarea(value='stops validating after detecting 250 errors.', description='source'), Te…"
      ]
     },
     "metadata": {},
     "output_type": "display_data"
    }
   ],
   "source": [
    "_interact = interact(KiwiViz, source=SOURCE, mt=MT)"
   ]
  },
  {
   "cell_type": "code",
   "execution_count": null,
   "metadata": {},
   "outputs": [],
   "source": []
  }
 ],
 "metadata": {
  "kernelspec": {
   "display_name": "openkiwi",
   "language": "python",
   "name": "openkiwi"
  }
 },
 "nbformat": 4,
 "nbformat_minor": 2
}
